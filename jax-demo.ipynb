{
 "cells": [
  {
   "cell_type": "markdown",
   "metadata": {},
   "source": [
    "# JAX Demo\n",
    "\n",
    "We'll first load up MNIST using PyTorch's dataloading API and the cpu-only wheel. We cast the torch tensors to jnp arrays in our collate function and flatten the images into vectors for compatibility with the MLP."
   ]
  },
  {
   "cell_type": "code",
   "execution_count": 46,
   "metadata": {},
   "outputs": [
    {
     "data": {
      "text/plain": [
       "<matplotlib.image.AxesImage at 0x7fb7869d46a0>"
      ]
     },
     "execution_count": 46,
     "metadata": {},
     "output_type": "execute_result"
    },
    {
     "data": {
      "image/png": "[encoded data removed]",
      "text/plain": [
       "<Figure size 640x480 with 1 Axes>"
      ]
     },
     "metadata": {},
     "output_type": "display_data"
    }
   ],
   "source": [
    "from torchvision import datasets, transforms\n",
    "from torch.utils.data import Dataset, DataLoader, default_collate\n",
    "\n",
    "import jax.numpy as jnp # jax implementations of numpy api\n",
    "import matplotlib.pyplot as plt # to show images\n",
    "\n",
    "mnist_train = datasets.MNIST(root=\"./data/\", train=True, download=True, transform=transforms.ToTensor())\n",
    "mnist_test = datasets.MNIST(root=\"./data/\", train=False, download=True, transform=transforms.ToTensor())\n",
    "\n",
    "# function to turn a batch of PyTorch data into a batch of JAX arrays\n",
    "def jnp_collate(batch):\n",
    "    x, y = default_collate(batch)\n",
    "    x = jnp.asarray(x).reshape(x.shape[0], -1)\n",
    "    y = jnp.asarray(y)\n",
    "    return x, y\n",
    "\n",
    "train_ds = DataLoader(mnist_train, batch_size=128, shuffle=True, collate_fn=jnp_collate)\n",
    "test_ds = DataLoader(mnist_test, batch_size=128, shuffle=False, collate_fn=jnp_collate)\n",
    "\n",
    "sample_data, sample_labels = next(iter(train_ds))\n",
    "sample_img = sample_data[-1]\n",
    "\n",
    "# show the last image\n",
    "plt.imshow(sample_img.reshape(28, 28))"
   ]
  },
  {
   "cell_type": "markdown",
   "metadata": {},
   "source": [
    "With the data loaded and preprocessed, we can define our model and make a test instance."
   ]
  },
  {
   "cell_type": "code",
   "execution_count": 47,
   "metadata": {},
   "outputs": [
    {
     "data": {
      "text/plain": [
       "MLP(\n",
       "  in_dim=784,\n",
       "  out_dim=10,\n",
       "  hidden_dim=128,\n",
       "  num_hidden_layers=3,\n",
       "  layers=[Linear(\n",
       "    kernel=Param(\n",
       "      value=Array(shape=(784, 128), dtype=float32)\n",
       "    ),\n",
       "    bias=Param(\n",
       "      value=Array(shape=(128,), dtype=float32)\n",
       "    ),\n",
       "    in_features=784,\n",
       "    out_features=128,\n",
       "    use_bias=True,\n",
       "    dtype=None,\n",
       "    param_dtype=<class 'jax.numpy.float32'>,\n",
       "    precision=None,\n",
       "    kernel_init=<function variance_scaling.<locals>.init at 0x7fb822279ee0>,\n",
       "    bias_init=<function zeros at 0x7fb82c3deca0>,\n",
       "    dot_general=<function dot_general at 0x7fb82c94f1f0>\n",
       "  ), <jax._src.custom_derivatives.custom_jvp object at 0x7fb82c365790>, Linear(\n",
       "    kernel=Param(\n",
       "      value=Array(shape=(128, 128), dtype=float32)\n",
       "    ),\n",
       "    bias=Param(\n",
       "      value=Array(shape=(128,), dtype=float32)\n",
       "    ),\n",
       "    in_features=128,\n",
       "    out_features=128,\n",
       "    use_bias=True,\n",
       "    dtype=None,\n",
       "    param_dtype=<class 'jax.numpy.float32'>,\n",
       "    precision=None,\n",
       "    kernel_init=<function variance_scaling.<locals>.init at 0x7fb822279ee0>,\n",
       "    bias_init=<function zeros at 0x7fb82c3deca0>,\n",
       "    dot_general=<function dot_general at 0x7fb82c94f1f0>\n",
       "  ), <jax._src.custom_derivatives.custom_jvp object at 0x7fb82c365790>, Linear(\n",
       "    kernel=Param(\n",
       "      value=Array(shape=(128, 128), dtype=float32)\n",
       "    ),\n",
       "    bias=Param(\n",
       "      value=Array(shape=(128,), dtype=float32)\n",
       "    ),\n",
       "    in_features=128,\n",
       "    out_features=128,\n",
       "    use_bias=True,\n",
       "    dtype=None,\n",
       "    param_dtype=<class 'jax.numpy.float32'>,\n",
       "    precision=None,\n",
       "    kernel_init=<function variance_scaling.<locals>.init at 0x7fb822279ee0>,\n",
       "    bias_init=<function zeros at 0x7fb82c3deca0>,\n",
       "    dot_general=<function dot_general at 0x7fb82c94f1f0>\n",
       "  ), <jax._src.custom_derivatives.custom_jvp object at 0x7fb82c365790>, Linear(\n",
       "    kernel=Param(\n",
       "      value=Array(shape=(128, 128), dtype=float32)\n",
       "    ),\n",
       "    bias=Param(\n",
       "      value=Array(shape=(128,), dtype=float32)\n",
       "    ),\n",
       "    in_features=128,\n",
       "    out_features=128,\n",
       "    use_bias=True,\n",
       "    dtype=None,\n",
       "    param_dtype=<class 'jax.numpy.float32'>,\n",
       "    precision=None,\n",
       "    kernel_init=<function variance_scaling.<locals>.init at 0x7fb822279ee0>,\n",
       "    bias_init=<function zeros at 0x7fb82c3deca0>,\n",
       "    dot_general=<function dot_general at 0x7fb82c94f1f0>\n",
       "  ), <jax._src.custom_derivatives.custom_jvp object at 0x7fb82c365790>, Linear(\n",
       "    kernel=Param(\n",
       "      value=Array(shape=(128, 10), dtype=float32)\n",
       "    ),\n",
       "    bias=Param(\n",
       "      value=Array(shape=(10,), dtype=float32)\n",
       "    ),\n",
       "    in_features=128,\n",
       "    out_features=10,\n",
       "    use_bias=True,\n",
       "    dtype=None,\n",
       "    param_dtype=<class 'jax.numpy.float32'>,\n",
       "    precision=None,\n",
       "    kernel_init=<function variance_scaling.<locals>.init at 0x7fb822279ee0>,\n",
       "    bias_init=<function zeros at 0x7fb82c3deca0>,\n",
       "    dot_general=<function dot_general at 0x7fb82c94f1f0>\n",
       "  )]\n",
       ")"
      ]
     },
     "execution_count": 47,
     "metadata": {},
     "output_type": "execute_result"
    }
   ],
   "source": [
    "from flax import nnx\n",
    "\n",
    "class MLP(nnx.Module):\n",
    "    def __init__(self, in_dim = 1 * 28 * 28, out_dim = 10, hidden_dim = 128, num_hidden_layers = 3, rngs = None):\n",
    "        self.in_dim = in_dim\n",
    "        self.out_dim = out_dim\n",
    "        self.hidden_dim = hidden_dim\n",
    "        self.num_hidden_layers = num_hidden_layers\n",
    "        \n",
    "        self.layers = [\n",
    "            nnx.Linear(in_dim, hidden_dim, rngs=rngs),\n",
    "            nnx.relu,\n",
    "        ]\n",
    "\n",
    "        for _ in range(num_hidden_layers):\n",
    "            self.layers.extend([\n",
    "                nnx.Linear(hidden_dim, hidden_dim, rngs=rngs),\n",
    "                nnx.relu\n",
    "            ])\n",
    "\n",
    "        self.layers.append(nnx.Linear(hidden_dim, out_dim, rngs=rngs))\n",
    "    \n",
    "    def __call__(self, x):\n",
    "        for layer in self.layers:\n",
    "            x = layer(x)\n",
    "        return x\n",
    "\n",
    "model = MLP(in_dim = 784, out_dim = 10, hidden_dim = 128, num_hidden_layers = 3, rngs=nnx.Rngs(0)) \n",
    "model"
   ]
  },
  {
   "cell_type": "markdown",
   "metadata": {},
   "source": [
    "We'll test a forward pass of the jax model on a sample batch from the data."
   ]
  },
  {
   "cell_type": "code",
   "execution_count": 48,
   "metadata": {},
   "outputs": [
    {
     "name": "stdout",
     "output_type": "stream",
     "text": [
      "Shape of sample batch: (128, 784)\n",
      "Shape of logits: (128, 10)\n"
     ]
    }
   ],
   "source": [
    "sample_batch = next(iter(train_ds))\n",
    "print(f\"Shape of sample batch: {sample_batch[0].shape}\")\n",
    "\n",
    "logits = model(sample_batch[0])\n",
    "print(f\"Shape of logits: {logits.shape}\")"
   ]
  },
  {
   "cell_type": "markdown",
   "metadata": {},
   "source": [
    "And here's the Jax training loop for 10 epochs on MNIST:"
   ]
  },
  {
   "cell_type": "code",
   "execution_count": 51,
   "metadata": {},
   "outputs": [
    {
     "name": "stderr",
     "output_type": "stream",
     "text": [
      "Epoch 9: 100%|██████████| 10/10 [01:28<00:00,  8.88s/it, train_accuracy=0.9577]   \n"
     ]
    }
   ],
   "source": [
    "import optax\n",
    "from tqdm import tqdm\n",
    "\n",
    "def train(model, train_ds, eval_ds, num_epochs):\n",
    "    opt = nnx.Optimizer(model, optax.noisy_sgd(learning_rate=0.01))\n",
    "\n",
    "    for epoch in (pbar := tqdm(range(num_epochs))):\n",
    "        pbar.set_description(f\"Epoch {epoch}\")\n",
    "        model.train()\n",
    "        for batch in train_ds:\n",
    "            train_step(model, opt, batch)\n",
    "        pbar.set_postfix(train_accuracy=eval_loop(model, train_ds))\n",
    "\n",
    "@nnx.jit\n",
    "def train_step(model, opt, batch):\n",
    "    def loss_fn(model):\n",
    "        logits = model(batch[0])\n",
    "        loss = optax.softmax_cross_entropy_with_integer_labels(logits, batch[1]).mean()\n",
    "        return loss\n",
    "    grad_fn = nnx.value_and_grad(loss_fn)\n",
    "    loss, grads = grad_fn(model)\n",
    "    opt.update(grads)\n",
    "\n",
    "def eval_loop(model, eval_ds):\n",
    "    model.eval()\n",
    "    total = 0\n",
    "    correct = 0\n",
    "    for batch in eval_ds:\n",
    "        res = eval_step(model, batch)\n",
    "        total += res.shape[0]\n",
    "        correct += res.sum()\n",
    "    return correct / total\n",
    "\n",
    "@nnx.jit\n",
    "def eval_step(model, batch):\n",
    "    logits = model(batch[0])\n",
    "    return logits.argmax(axis=-1) == batch[1]\n",
    "\n",
    "train(model, train_ds, test_ds, 10)"
   ]
  },
  {
   "cell_type": "markdown",
   "metadata": {},
   "source": [
    "With that done, our \"model\" object now holds our trained network! Lets see it work on a few parameters."
   ]
  },
  {
   "cell_type": "code",
   "execution_count": 57,
   "metadata": {},
   "outputs": [
    {
     "name": "stdout",
     "output_type": "stream",
     "text": [
      "Example image:\n"
     ]
    },
    {
     "data": {
      "image/png": "[encoded data removed]",
      "text/plain": [
       "<Figure size 640x480 with 1 Axes>"
      ]
     },
     "metadata": {},
     "output_type": "display_data"
    },
    {
     "name": "stdout",
     "output_type": "stream",
     "text": [
      "Label: 3\n",
      "Model Prediction: 3\n",
      "Confidence: 0.99\n",
      "Loss: 0.01\n",
      "\n",
      "\n",
      "Example image:\n"
     ]
    },
    {
     "data": {
      "image/png": "[encoded data removed]",
      "text/plain": [
       "<Figure size 640x480 with 1 Axes>"
      ]
     },
     "metadata": {},
     "output_type": "display_data"
    },
    {
     "name": "stdout",
     "output_type": "stream",
     "text": [
      "Label: 4\n",
      "Model Prediction: 4\n",
      "Confidence: 0.40\n",
      "Loss: 0.91\n",
      "\n",
      "\n",
      "Example image:\n"
     ]
    },
    {
     "data": {
      "image/png": "[encoded data removed]",
      "text/plain": [
       "<Figure size 640x480 with 1 Axes>"
      ]
     },
     "metadata": {},
     "output_type": "display_data"
    },
    {
     "name": "stdout",
     "output_type": "stream",
     "text": [
      "Label: 4\n",
      "Model Prediction: 4\n",
      "Confidence: 1.00\n",
      "Loss: 0.00\n",
      "\n",
      "\n"
     ]
    }
   ],
   "source": [
    "import jax\n",
    "\n",
    "# sample a few images from the test set\n",
    "sample_batch = next(iter(test_ds))\n",
    "\n",
    "sample_idxs = jax.random.choice(key=jax.random.PRNGKey(1), a=jnp.arange(len(sample_batch[0])), shape=(3,))\n",
    "\n",
    "sample_imgs = sample_batch[0][sample_idxs].reshape(3, 28, 28)\n",
    "sample_labels = sample_batch[1][sample_idxs]\n",
    "\n",
    "\n",
    "for i in range(3):\n",
    "    print(f\"Example image:\")\n",
    "    plt.imshow(sample_imgs[i])\n",
    "    plt.show()\n",
    "    print(f\"Label: {sample_labels[i]}\")\n",
    "\n",
    "    # get model output\n",
    "    logits = model(sample_imgs[i].reshape(1, -1))\n",
    "    probs = jax.nn.softmax(logits)\n",
    "    loss = optax.softmax_cross_entropy_with_integer_labels(logits.reshape(10, -1).squeeze(), sample_labels[i])\n",
    "    pred = jnp.argmax(logits)\n",
    "\n",
    "    # log preds and configdence\n",
    "    print(f\"Model Prediction: {pred}\")\n",
    "    print(f\"Confidence: {probs[0][sample_labels[i]]:.2f}\")\n",
    "    print(f\"Loss: {loss:.2f}\")\n",
    "    print(\"\\n\")"
   ]
  }
 ],
 "metadata": {
  "kernelspec": {
   "display_name": "jax-demo",
   "language": "python",
   "name": "python3"
  },
  "language_info": {
   "codemirror_mode": {
    "name": "ipython",
    "version": 3
   },
   "file_extension": ".py",
   "mimetype": "text/x-python",
   "name": "python",
   "nbconvert_exporter": "python",
   "pygments_lexer": "ipython3",
   "version": "3.9.23"
  }
 },
 "nbformat": 4,
 "nbformat_minor": 2
}
